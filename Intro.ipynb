{
  "nbformat": 4,
  "nbformat_minor": 0,
  "metadata": {
    "colab": {
      "name": " Intro.ipynb",
      "provenance": [],
      "authorship_tag": "ABX9TyPkHMY5tVbOOB+uXdh9/9q2",
      "include_colab_link": true
    },
    "kernelspec": {
      "name": "python3",
      "display_name": "Python 3"
    }
  },
  "cells": [
    {
      "cell_type": "markdown",
      "metadata": {
        "id": "view-in-github",
        "colab_type": "text"
      },
      "source": [
        "<a href=\"https://colab.research.google.com/github/warakorn201/KKU_Data_Mining/blob/master/Intro.ipynb\" target=\"_parent\"><img src=\"https://colab.research.google.com/assets/colab-badge.svg\" alt=\"Open In Colab\"/></a>"
      ]
    },
    {
      "cell_type": "code",
      "metadata": {
        "id": "7aU6HriVd4Bv",
        "colab_type": "code",
        "colab": {}
      },
      "source": [
        "print('นายวรากร เลิศศิริ 613021021-2')"
      ],
      "execution_count": null,
      "outputs": []
    }
  ]
}